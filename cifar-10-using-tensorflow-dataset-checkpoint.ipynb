{
 "cells": [
  {
   "cell_type": "code",
   "execution_count": 1,
   "id": "3dc89f05",
   "metadata": {
    "execution": {
     "iopub.execute_input": "2022-11-02T22:30:02.535606Z",
     "iopub.status.busy": "2022-11-02T22:30:02.535075Z",
     "iopub.status.idle": "2022-11-02T22:30:02.549005Z",
     "shell.execute_reply": "2022-11-02T22:30:02.548140Z"
    },
    "papermill": {
     "duration": 0.029402,
     "end_time": "2022-11-02T22:30:02.551155",
     "exception": false,
     "start_time": "2022-11-02T22:30:02.521753",
     "status": "completed"
    },
    "tags": []
   },
   "outputs": [],
   "source": [
    "import pandas as pd\n",
    "import numpy as np\n",
    "import matplotlib.pyplot as plt\n",
    "%matplotlib inline"
   ]
  },
  {
   "cell_type": "code",
   "execution_count": 2,
   "id": "9cccd708",
   "metadata": {
    "execution": {
     "iopub.execute_input": "2022-11-02T22:30:02.567056Z",
     "iopub.status.busy": "2022-11-02T22:30:02.566217Z",
     "iopub.status.idle": "2022-11-02T22:30:07.602754Z",
     "shell.execute_reply": "2022-11-02T22:30:07.601742Z"
    },
    "papermill": {
     "duration": 5.046818,
     "end_time": "2022-11-02T22:30:07.605155",
     "exception": false,
     "start_time": "2022-11-02T22:30:02.558337",
     "status": "completed"
    },
    "tags": []
   },
   "outputs": [],
   "source": [
    "from tensorflow.keras.datasets import cifar10"
   ]
  },
  {
   "cell_type": "code",
   "execution_count": 3,
   "id": "eb95d390",
   "metadata": {
    "execution": {
     "iopub.execute_input": "2022-11-02T22:30:07.621381Z",
     "iopub.status.busy": "2022-11-02T22:30:07.620853Z",
     "iopub.status.idle": "2022-11-02T22:30:22.185295Z",
     "shell.execute_reply": "2022-11-02T22:30:22.184341Z"
    },
    "papermill": {
     "duration": 14.575442,
     "end_time": "2022-11-02T22:30:22.187929",
     "exception": false,
     "start_time": "2022-11-02T22:30:07.612487",
     "status": "completed"
    },
    "tags": []
   },
   "outputs": [
    {
     "name": "stdout",
     "output_type": "stream",
     "text": [
      "Downloading data from https://www.cs.toronto.edu/~kriz/cifar-10-python.tar.gz\n",
      "170500096/170498071 [==============================] - 12s 0us/step\n",
      "170508288/170498071 [==============================] - 12s 0us/step\n"
     ]
    }
   ],
   "source": [
    "(X_train,y_train) , (X_test, y_test) = cifar10.load_data()"
   ]
  },
  {
   "cell_type": "code",
   "execution_count": 4,
   "id": "202c1374",
   "metadata": {
    "execution": {
     "iopub.execute_input": "2022-11-02T22:30:22.218992Z",
     "iopub.status.busy": "2022-11-02T22:30:22.218685Z",
     "iopub.status.idle": "2022-11-02T22:30:22.226597Z",
     "shell.execute_reply": "2022-11-02T22:30:22.225589Z"
    },
    "papermill": {
     "duration": 0.027576,
     "end_time": "2022-11-02T22:30:22.230047",
     "exception": false,
     "start_time": "2022-11-02T22:30:22.202471",
     "status": "completed"
    },
    "tags": []
   },
   "outputs": [
    {
     "data": {
      "text/plain": [
       "(50000, 32, 32, 3)"
      ]
     },
     "execution_count": 4,
     "metadata": {},
     "output_type": "execute_result"
    }
   ],
   "source": [
    "X_train.shape"
   ]
  },
  {
   "cell_type": "code",
   "execution_count": 5,
   "id": "8c3e6d8a",
   "metadata": {
    "execution": {
     "iopub.execute_input": "2022-11-02T22:30:22.259425Z",
     "iopub.status.busy": "2022-11-02T22:30:22.258654Z",
     "iopub.status.idle": "2022-11-02T22:30:22.266686Z",
     "shell.execute_reply": "2022-11-02T22:30:22.265723Z"
    },
    "papermill": {
     "duration": 0.02482,
     "end_time": "2022-11-02T22:30:22.268659",
     "exception": false,
     "start_time": "2022-11-02T22:30:22.243839",
     "status": "completed"
    },
    "tags": []
   },
   "outputs": [
    {
     "data": {
      "text/plain": [
       "array([[[ 59,  62,  63],\n",
       "        [ 43,  46,  45],\n",
       "        [ 50,  48,  43],\n",
       "        ...,\n",
       "        [158, 132, 108],\n",
       "        [152, 125, 102],\n",
       "        [148, 124, 103]],\n",
       "\n",
       "       [[ 16,  20,  20],\n",
       "        [  0,   0,   0],\n",
       "        [ 18,   8,   0],\n",
       "        ...,\n",
       "        [123,  88,  55],\n",
       "        [119,  83,  50],\n",
       "        [122,  87,  57]],\n",
       "\n",
       "       [[ 25,  24,  21],\n",
       "        [ 16,   7,   0],\n",
       "        [ 49,  27,   8],\n",
       "        ...,\n",
       "        [118,  84,  50],\n",
       "        [120,  84,  50],\n",
       "        [109,  73,  42]],\n",
       "\n",
       "       ...,\n",
       "\n",
       "       [[208, 170,  96],\n",
       "        [201, 153,  34],\n",
       "        [198, 161,  26],\n",
       "        ...,\n",
       "        [160, 133,  70],\n",
       "        [ 56,  31,   7],\n",
       "        [ 53,  34,  20]],\n",
       "\n",
       "       [[180, 139,  96],\n",
       "        [173, 123,  42],\n",
       "        [186, 144,  30],\n",
       "        ...,\n",
       "        [184, 148,  94],\n",
       "        [ 97,  62,  34],\n",
       "        [ 83,  53,  34]],\n",
       "\n",
       "       [[177, 144, 116],\n",
       "        [168, 129,  94],\n",
       "        [179, 142,  87],\n",
       "        ...,\n",
       "        [216, 184, 140],\n",
       "        [151, 118,  84],\n",
       "        [123,  92,  72]]], dtype=uint8)"
      ]
     },
     "execution_count": 5,
     "metadata": {},
     "output_type": "execute_result"
    }
   ],
   "source": [
    "X_train[0]"
   ]
  },
  {
   "cell_type": "code",
   "execution_count": 6,
   "id": "17328e8a",
   "metadata": {
    "execution": {
     "iopub.execute_input": "2022-11-02T22:30:22.298261Z",
     "iopub.status.busy": "2022-11-02T22:30:22.297530Z",
     "iopub.status.idle": "2022-11-02T22:30:22.304292Z",
     "shell.execute_reply": "2022-11-02T22:30:22.303372Z"
    },
    "papermill": {
     "duration": 0.023717,
     "end_time": "2022-11-02T22:30:22.306293",
     "exception": false,
     "start_time": "2022-11-02T22:30:22.282576",
     "status": "completed"
    },
    "tags": []
   },
   "outputs": [
    {
     "data": {
      "text/plain": [
       "(32, 32, 3)"
      ]
     },
     "execution_count": 6,
     "metadata": {},
     "output_type": "execute_result"
    }
   ],
   "source": [
    "X_train[0].shape"
   ]
  },
  {
   "cell_type": "code",
   "execution_count": 7,
   "id": "c2c4883e",
   "metadata": {
    "execution": {
     "iopub.execute_input": "2022-11-02T22:30:22.336352Z",
     "iopub.status.busy": "2022-11-02T22:30:22.335600Z",
     "iopub.status.idle": "2022-11-02T22:30:22.554449Z",
     "shell.execute_reply": "2022-11-02T22:30:22.553768Z"
    },
    "papermill": {
     "duration": 0.23558,
     "end_time": "2022-11-02T22:30:22.556329",
     "exception": false,
     "start_time": "2022-11-02T22:30:22.320749",
     "status": "completed"
    },
    "tags": []
   },
   "outputs": [
    {
     "data": {
      "text/plain": [
       "<matplotlib.image.AxesImage at 0x7f026e1af350>"
      ]
     },
     "execution_count": 7,
     "metadata": {},
     "output_type": "execute_result"
    },
    {
     "data": {
      "image/png": "[encoded data removed]",
      "text/plain": [
       "<Figure size 432x288 with 1 Axes>"
      ]
     },
     "metadata": {
      "needs_background": "light"
     },
     "output_type": "display_data"
    }
   ],
   "source": [
    "plt.imshow(X_train[0])"
   ]
  },
  {
   "cell_type": "code",
   "execution_count": 8,
   "id": "ad5652b3",
   "metadata": {
    "execution": {
     "iopub.execute_input": "2022-11-02T22:30:22.588065Z",
     "iopub.status.busy": "2022-11-02T22:30:22.587224Z",
     "iopub.status.idle": "2022-11-02T22:30:22.783757Z",
     "shell.execute_reply": "2022-11-02T22:30:22.782752Z"
    },
    "papermill": {
     "duration": 0.214946,
     "end_time": "2022-11-02T22:30:22.786107",
     "exception": false,
     "start_time": "2022-11-02T22:30:22.571161",
     "status": "completed"
    },
    "tags": []
   },
   "outputs": [
    {
     "data": {
      "text/plain": [
       "<matplotlib.image.AxesImage at 0x7f02625cf810>"
      ]
     },
     "execution_count": 8,
     "metadata": {},
     "output_type": "execute_result"
    },
    {
     "data": {
      "image/png": "[encoded data removed]",
      "text/plain": [
       "<Figure size 432x288 with 1 Axes>"
      ]
     },
     "metadata": {
      "needs_background": "light"
     },
     "output_type": "display_data"
    }
   ],
   "source": [
    "plt.imshow(X_train[12])"
   ]
  },
  {
   "cell_type": "code",
   "execution_count": 9,
   "id": "c463a07e",
   "metadata": {
    "execution": {
     "iopub.execute_input": "2022-11-02T22:30:22.820126Z",
     "iopub.status.busy": "2022-11-02T22:30:22.819807Z",
     "iopub.status.idle": "2022-11-02T22:30:23.225732Z",
     "shell.execute_reply": "2022-11-02T22:30:23.224633Z"
    },
    "papermill": {
     "duration": 0.425037,
     "end_time": "2022-11-02T22:30:23.228425",
     "exception": false,
     "start_time": "2022-11-02T22:30:22.803388",
     "status": "completed"
    },
    "tags": []
   },
   "outputs": [],
   "source": [
    "X_train = X_train/255"
   ]
  },
  {
   "cell_type": "code",
   "execution_count": 10,
   "id": "356a3046",
   "metadata": {
    "execution": {
     "iopub.execute_input": "2022-11-02T22:30:23.259646Z",
     "iopub.status.busy": "2022-11-02T22:30:23.259333Z",
     "iopub.status.idle": "2022-11-02T22:30:23.345990Z",
     "shell.execute_reply": "2022-11-02T22:30:23.344792Z"
    },
    "papermill": {
     "duration": 0.105046,
     "end_time": "2022-11-02T22:30:23.348624",
     "exception": false,
     "start_time": "2022-11-02T22:30:23.243578",
     "status": "completed"
    },
    "tags": []
   },
   "outputs": [],
   "source": [
    "X_test = X_test/255"
   ]
  },
  {
   "cell_type": "code",
   "execution_count": 11,
   "id": "b1a9691a",
   "metadata": {
    "execution": {
     "iopub.execute_input": "2022-11-02T22:30:23.379975Z",
     "iopub.status.busy": "2022-11-02T22:30:23.379651Z",
     "iopub.status.idle": "2022-11-02T22:30:23.384520Z",
     "shell.execute_reply": "2022-11-02T22:30:23.383600Z"
    },
    "papermill": {
     "duration": 0.022804,
     "end_time": "2022-11-02T22:30:23.386526",
     "exception": false,
     "start_time": "2022-11-02T22:30:23.363722",
     "status": "completed"
    },
    "tags": []
   },
   "outputs": [],
   "source": [
    "from tensorflow.keras.utils import to_categorical"
   ]
  },
  {
   "cell_type": "code",
   "execution_count": 12,
   "id": "d049a310",
   "metadata": {
    "execution": {
     "iopub.execute_input": "2022-11-02T22:30:23.417608Z",
     "iopub.status.busy": "2022-11-02T22:30:23.416711Z",
     "iopub.status.idle": "2022-11-02T22:30:23.423279Z",
     "shell.execute_reply": "2022-11-02T22:30:23.422441Z"
    },
    "papermill": {
     "duration": 0.023988,
     "end_time": "2022-11-02T22:30:23.425203",
     "exception": false,
     "start_time": "2022-11-02T22:30:23.401215",
     "status": "completed"
    },
    "tags": []
   },
   "outputs": [],
   "source": [
    "y_cat_train  = to_categorical(y_train, 10)"
   ]
  },
  {
   "cell_type": "code",
   "execution_count": 13,
   "id": "77a7a041",
   "metadata": {
    "execution": {
     "iopub.execute_input": "2022-11-02T22:30:23.456308Z",
     "iopub.status.busy": "2022-11-02T22:30:23.455528Z",
     "iopub.status.idle": "2022-11-02T22:30:23.459967Z",
     "shell.execute_reply": "2022-11-02T22:30:23.459162Z"
    },
    "papermill": {
     "duration": 0.022037,
     "end_time": "2022-11-02T22:30:23.461887",
     "exception": false,
     "start_time": "2022-11-02T22:30:23.439850",
     "status": "completed"
    },
    "tags": []
   },
   "outputs": [],
   "source": [
    "y_cat_test = to_categorical(y_test, 10)"
   ]
  },
  {
   "cell_type": "code",
   "execution_count": 14,
   "id": "d8c578b9",
   "metadata": {
    "execution": {
     "iopub.execute_input": "2022-11-02T22:30:23.492777Z",
     "iopub.status.busy": "2022-11-02T22:30:23.491894Z",
     "iopub.status.idle": "2022-11-02T22:30:23.496785Z",
     "shell.execute_reply": "2022-11-02T22:30:23.495982Z"
    },
    "papermill": {
     "duration": 0.022347,
     "end_time": "2022-11-02T22:30:23.498761",
     "exception": false,
     "start_time": "2022-11-02T22:30:23.476414",
     "status": "completed"
    },
    "tags": []
   },
   "outputs": [],
   "source": [
    "from tensorflow.keras.models import Sequential"
   ]
  },
  {
   "cell_type": "code",
   "execution_count": 15,
   "id": "63473341",
   "metadata": {
    "execution": {
     "iopub.execute_input": "2022-11-02T22:30:23.529843Z",
     "iopub.status.busy": "2022-11-02T22:30:23.529078Z",
     "iopub.status.idle": "2022-11-02T22:30:23.534316Z",
     "shell.execute_reply": "2022-11-02T22:30:23.533508Z"
    },
    "papermill": {
     "duration": 0.02293,
     "end_time": "2022-11-02T22:30:23.536261",
     "exception": false,
     "start_time": "2022-11-02T22:30:23.513331",
     "status": "completed"
    },
    "tags": []
   },
   "outputs": [],
   "source": [
    "from tensorflow.keras.layers import Dense, Conv2D, MaxPool2D, Flatten"
   ]
  },
  {
   "cell_type": "code",
   "execution_count": 16,
   "id": "cbc594da",
   "metadata": {
    "execution": {
     "iopub.execute_input": "2022-11-02T22:30:23.566972Z",
     "iopub.status.busy": "2022-11-02T22:30:23.566245Z",
     "iopub.status.idle": "2022-11-02T22:30:26.347957Z",
     "shell.execute_reply": "2022-11-02T22:30:26.346962Z"
    },
    "papermill": {
     "duration": 2.799618,
     "end_time": "2022-11-02T22:30:26.350425",
     "exception": false,
     "start_time": "2022-11-02T22:30:23.550807",
     "status": "completed"
    },
    "tags": []
   },
   "outputs": [
    {
     "name": "stderr",
     "output_type": "stream",
     "text": [
      "2022-11-02 22:30:23.799251: I tensorflow/stream_executor/cuda/cuda_gpu_executor.cc:937] successful NUMA node read from SysFS had negative value (-1), but there must be at least one NUMA node, so returning NUMA node zero\n",
      "2022-11-02 22:30:23.889710: I tensorflow/stream_executor/cuda/cuda_gpu_executor.cc:937] successful NUMA node read from SysFS had negative value (-1), but there must be at least one NUMA node, so returning NUMA node zero\n",
      "2022-11-02 22:30:23.890555: I tensorflow/stream_executor/cuda/cuda_gpu_executor.cc:937] successful NUMA node read from SysFS had negative value (-1), but there must be at least one NUMA node, so returning NUMA node zero\n",
      "2022-11-02 22:30:23.892301: I tensorflow/core/platform/cpu_feature_guard.cc:142] This TensorFlow binary is optimized with oneAPI Deep Neural Network Library (oneDNN) to use the following CPU instructions in performance-critical operations:  AVX2 AVX512F FMA\n",
      "To enable them in other operations, rebuild TensorFlow with the appropriate compiler flags.\n",
      "2022-11-02 22:30:23.892669: I tensorflow/stream_executor/cuda/cuda_gpu_executor.cc:937] successful NUMA node read from SysFS had negative value (-1), but there must be at least one NUMA node, so returning NUMA node zero\n",
      "2022-11-02 22:30:23.893727: I tensorflow/stream_executor/cuda/cuda_gpu_executor.cc:937] successful NUMA node read from SysFS had negative value (-1), but there must be at least one NUMA node, so returning NUMA node zero\n",
      "2022-11-02 22:30:23.894696: I tensorflow/stream_executor/cuda/cuda_gpu_executor.cc:937] successful NUMA node read from SysFS had negative value (-1), but there must be at least one NUMA node, so returning NUMA node zero\n",
      "2022-11-02 22:30:25.891174: I tensorflow/stream_executor/cuda/cuda_gpu_executor.cc:937] successful NUMA node read from SysFS had negative value (-1), but there must be at least one NUMA node, so returning NUMA node zero\n",
      "2022-11-02 22:30:25.891983: I tensorflow/stream_executor/cuda/cuda_gpu_executor.cc:937] successful NUMA node read from SysFS had negative value (-1), but there must be at least one NUMA node, so returning NUMA node zero\n",
      "2022-11-02 22:30:25.892698: I tensorflow/stream_executor/cuda/cuda_gpu_executor.cc:937] successful NUMA node read from SysFS had negative value (-1), but there must be at least one NUMA node, so returning NUMA node zero\n",
      "2022-11-02 22:30:25.893296: I tensorflow/core/common_runtime/gpu/gpu_device.cc:1510] Created device /job:localhost/replica:0/task:0/device:GPU:0 with 15401 MB memory:  -> device: 0, name: Tesla P100-PCIE-16GB, pci bus id: 0000:00:04.0, compute capability: 6.0\n"
     ]
    }
   ],
   "source": [
    "model = Sequential()\n",
    "\n",
    "model.add(Conv2D(filters = 32, kernel_size = (4,4), input_shape = (32, 32, 3), activation = \"relu\"))\n",
    "model.add(MaxPool2D(pool_size = (2,2)))\n",
    "\n",
    "model.add(Conv2D(filters = 64, kernel_size = (4,4), input_shape = (32, 32, 3), activation = \"relu\"))\n",
    "model.add(MaxPool2D(pool_size = (2,2)))\n",
    "\n",
    "model.add(Flatten())\n",
    "\n",
    "model.add(Dense(512, activation = \"relu\"))\n",
    "model.add(Dense(256, activation = \"relu\"))\n",
    "model.add(Dense(128, activation = \"relu\"))\n",
    "\n",
    "model.add(Dense(10, activation = \"softmax\"))\n",
    "\n",
    "model.compile(loss = \"categorical_crossentropy\", optimizer = \"adam\", metrics = [\"accuracy\"])"
   ]
  },
  {
   "cell_type": "code",
   "execution_count": 17,
   "id": "d14e57a7",
   "metadata": {
    "execution": {
     "iopub.execute_input": "2022-11-02T22:30:26.382153Z",
     "iopub.status.busy": "2022-11-02T22:30:26.381703Z",
     "iopub.status.idle": "2022-11-02T22:30:26.388345Z",
     "shell.execute_reply": "2022-11-02T22:30:26.387351Z"
    },
    "papermill": {
     "duration": 0.025916,
     "end_time": "2022-11-02T22:30:26.391664",
     "exception": false,
     "start_time": "2022-11-02T22:30:26.365748",
     "status": "completed"
    },
    "tags": []
   },
   "outputs": [
    {
     "name": "stdout",
     "output_type": "stream",
     "text": [
      "Model: \"sequential\"\n",
      "_________________________________________________________________\n",
      "Layer (type)                 Output Shape              Param #   \n",
      "=================================================================\n",
      "conv2d (Conv2D)              (None, 29, 29, 32)        1568      \n",
      "_________________________________________________________________\n",
      "max_pooling2d (MaxPooling2D) (None, 14, 14, 32)        0         \n",
      "_________________________________________________________________\n",
      "conv2d_1 (Conv2D)            (None, 11, 11, 64)        32832     \n",
      "_________________________________________________________________\n",
      "max_pooling2d_1 (MaxPooling2 (None, 5, 5, 64)          0         \n",
      "_________________________________________________________________\n",
      "flatten (Flatten)            (None, 1600)              0         \n",
      "_________________________________________________________________\n",
      "dense (Dense)                (None, 512)               819712    \n",
      "_________________________________________________________________\n",
      "dense_1 (Dense)              (None, 256)               131328    \n",
      "_________________________________________________________________\n",
      "dense_2 (Dense)              (None, 128)               32896     \n",
      "_________________________________________________________________\n",
      "dense_3 (Dense)              (None, 10)                1290      \n",
      "=================================================================\n",
      "Total params: 1,019,626\n",
      "Trainable params: 1,019,626\n",
      "Non-trainable params: 0\n",
      "_________________________________________________________________\n"
     ]
    }
   ],
   "source": [
    "model.summary()"
   ]
  },
  {
   "cell_type": "code",
   "execution_count": 18,
   "id": "79868dc8",
   "metadata": {
    "execution": {
     "iopub.execute_input": "2022-11-02T22:30:26.426619Z",
     "iopub.status.busy": "2022-11-02T22:30:26.425665Z",
     "iopub.status.idle": "2022-11-02T22:30:26.431140Z",
     "shell.execute_reply": "2022-11-02T22:30:26.430147Z"
    },
    "papermill": {
     "duration": 0.024412,
     "end_time": "2022-11-02T22:30:26.433223",
     "exception": false,
     "start_time": "2022-11-02T22:30:26.408811",
     "status": "completed"
    },
    "tags": []
   },
   "outputs": [],
   "source": [
    "from tensorflow.keras.callbacks import EarlyStopping"
   ]
  },
  {
   "cell_type": "code",
   "execution_count": 19,
   "id": "064609f4",
   "metadata": {
    "execution": {
     "iopub.execute_input": "2022-11-02T22:30:26.465885Z",
     "iopub.status.busy": "2022-11-02T22:30:26.465330Z",
     "iopub.status.idle": "2022-11-02T22:30:26.469888Z",
     "shell.execute_reply": "2022-11-02T22:30:26.468810Z"
    },
    "papermill": {
     "duration": 0.023138,
     "end_time": "2022-11-02T22:30:26.471968",
     "exception": false,
     "start_time": "2022-11-02T22:30:26.448830",
     "status": "completed"
    },
    "tags": []
   },
   "outputs": [],
   "source": [
    "early_stop = EarlyStopping(monitor = \"val_loss\", patience = 2)"
   ]
  },
  {
   "cell_type": "code",
   "execution_count": 20,
   "id": "26db31be",
   "metadata": {
    "execution": {
     "iopub.execute_input": "2022-11-02T22:30:26.505089Z",
     "iopub.status.busy": "2022-11-02T22:30:26.504259Z",
     "iopub.status.idle": "2022-11-02T22:31:19.114139Z",
     "shell.execute_reply": "2022-11-02T22:31:19.113174Z"
    },
    "papermill": {
     "duration": 52.628774,
     "end_time": "2022-11-02T22:31:19.116506",
     "exception": false,
     "start_time": "2022-11-02T22:30:26.487732",
     "status": "completed"
    },
    "tags": []
   },
   "outputs": [
    {
     "name": "stderr",
     "output_type": "stream",
     "text": [
      "2022-11-02 22:30:28.368868: I tensorflow/compiler/mlir/mlir_graph_optimization_pass.cc:185] None of the MLIR Optimization Passes are enabled (registered 2)\n"
     ]
    },
    {
     "name": "stdout",
     "output_type": "stream",
     "text": [
      "Epoch 1/15\n"
     ]
    },
    {
     "name": "stderr",
     "output_type": "stream",
     "text": [
      "2022-11-02 22:30:30.146406: I tensorflow/stream_executor/cuda/cuda_dnn.cc:369] Loaded cuDNN version 8005\n"
     ]
    },
    {
     "name": "stdout",
     "output_type": "stream",
     "text": [
      "1563/1563 [==============================] - 14s 4ms/step - loss: 1.5099 - accuracy: 0.4458 - val_loss: 1.2475 - val_accuracy: 0.5555\n",
      "Epoch 2/15\n",
      "1563/1563 [==============================] - 6s 4ms/step - loss: 1.1482 - accuracy: 0.5933 - val_loss: 1.0991 - val_accuracy: 0.6119\n",
      "Epoch 3/15\n",
      "1563/1563 [==============================] - 6s 4ms/step - loss: 0.9631 - accuracy: 0.6619 - val_loss: 1.0087 - val_accuracy: 0.6529\n",
      "Epoch 4/15\n",
      "1563/1563 [==============================] - 6s 4ms/step - loss: 0.8192 - accuracy: 0.7133 - val_loss: 1.0214 - val_accuracy: 0.6589\n",
      "Epoch 5/15\n",
      "1563/1563 [==============================] - 6s 4ms/step - loss: 0.7036 - accuracy: 0.7510 - val_loss: 0.9414 - val_accuracy: 0.6889\n",
      "Epoch 6/15\n",
      "1563/1563 [==============================] - 6s 4ms/step - loss: 0.5883 - accuracy: 0.7942 - val_loss: 1.0164 - val_accuracy: 0.6769\n",
      "Epoch 7/15\n",
      "1563/1563 [==============================] - 7s 5ms/step - loss: 0.4890 - accuracy: 0.8264 - val_loss: 1.1563 - val_accuracy: 0.6594\n"
     ]
    },
    {
     "data": {
      "text/plain": [
       "<keras.callbacks.History at 0x7f020a588e10>"
      ]
     },
     "execution_count": 20,
     "metadata": {},
     "output_type": "execute_result"
    }
   ],
   "source": [
    "model.fit(X_train, y_cat_train, validation_data = (X_test, y_cat_test), epochs = 15, callbacks = [early_stop])"
   ]
  },
  {
   "cell_type": "code",
   "execution_count": 21,
   "id": "a222dd08",
   "metadata": {
    "execution": {
     "iopub.execute_input": "2022-11-02T22:31:19.231137Z",
     "iopub.status.busy": "2022-11-02T22:31:19.230736Z",
     "iopub.status.idle": "2022-11-02T22:31:19.238573Z",
     "shell.execute_reply": "2022-11-02T22:31:19.237392Z"
    },
    "papermill": {
     "duration": 0.068236,
     "end_time": "2022-11-02T22:31:19.241433",
     "exception": false,
     "start_time": "2022-11-02T22:31:19.173197",
     "status": "completed"
    },
    "tags": []
   },
   "outputs": [],
   "source": [
    "metrics = pd.DataFrame(model.history.history)"
   ]
  },
  {
   "cell_type": "code",
   "execution_count": 22,
   "id": "5b5b45fb",
   "metadata": {
    "execution": {
     "iopub.execute_input": "2022-11-02T22:31:19.351445Z",
     "iopub.status.busy": "2022-11-02T22:31:19.350440Z",
     "iopub.status.idle": "2022-11-02T22:31:51.252055Z",
     "shell.execute_reply": "2022-11-02T22:31:51.250987Z"
    },
    "papermill": {
     "duration": 32.014325,
     "end_time": "2022-11-02T22:31:51.311384",
     "exception": false,
     "start_time": "2022-11-02T22:31:19.297059",
     "status": "completed"
    },
    "tags": []
   },
   "outputs": [
    {
     "data": {
      "text/html": [
       "<div>\n",
       "<style scoped>\n",
       "    .dataframe tbody tr th:only-of-type {\n",
       "        vertical-align: middle;\n",
       "    }\n",
       "\n",
       "    .dataframe tbody tr th {\n",
       "        vertical-align: top;\n",
       "    }\n",
       "\n",
       "    .dataframe thead th {\n",
       "        text-align: right;\n",
       "    }\n",
       "</style>\n",
       "<table border=\"1\" class=\"dataframe\">\n",
       "  <thead>\n",
       "    <tr style=\"text-align: right;\">\n",
       "      <th></th>\n",
       "      <th>loss</th>\n",
       "      <th>accuracy</th>\n",
       "      <th>val_loss</th>\n",
       "      <th>val_accuracy</th>\n",
       "    </tr>\n",
       "  </thead>\n",
       "  <tbody>\n",
       "    <tr>\n",
       "      <th>0</th>\n",
       "      <td>1.509875</td>\n",
       "      <td>0.44584</td>\n",
       "      <td>1.247549</td>\n",
       "      <td>0.5555</td>\n",
       "    </tr>\n",
       "    <tr>\n",
       "      <th>1</th>\n",
       "      <td>1.148155</td>\n",
       "      <td>0.59334</td>\n",
       "      <td>1.099052</td>\n",
       "      <td>0.6119</td>\n",
       "    </tr>\n",
       "    <tr>\n",
       "      <th>2</th>\n",
       "      <td>0.963051</td>\n",
       "      <td>0.66190</td>\n",
       "      <td>1.008713</td>\n",
       "      <td>0.6529</td>\n",
       "    </tr>\n",
       "    <tr>\n",
       "      <th>3</th>\n",
       "      <td>0.819156</td>\n",
       "      <td>0.71332</td>\n",
       "      <td>1.021390</td>\n",
       "      <td>0.6589</td>\n",
       "    </tr>\n",
       "    <tr>\n",
       "      <th>4</th>\n",
       "      <td>0.703609</td>\n",
       "      <td>0.75096</td>\n",
       "      <td>0.941427</td>\n",
       "      <td>0.6889</td>\n",
       "    </tr>\n",
       "    <tr>\n",
       "      <th>5</th>\n",
       "      <td>0.588332</td>\n",
       "      <td>0.79420</td>\n",
       "      <td>1.016406</td>\n",
       "      <td>0.6769</td>\n",
       "    </tr>\n",
       "    <tr>\n",
       "      <th>6</th>\n",
       "      <td>0.489008</td>\n",
       "      <td>0.82640</td>\n",
       "      <td>1.156310</td>\n",
       "      <td>0.6594</td>\n",
       "    </tr>\n",
       "  </tbody>\n",
       "</table>\n",
       "</div>"
      ],
      "text/plain": [
       "       loss  accuracy  val_loss  val_accuracy\n",
       "0  1.509875   0.44584  1.247549        0.5555\n",
       "1  1.148155   0.59334  1.099052        0.6119\n",
       "2  0.963051   0.66190  1.008713        0.6529\n",
       "3  0.819156   0.71332  1.021390        0.6589\n",
       "4  0.703609   0.75096  0.941427        0.6889\n",
       "5  0.588332   0.79420  1.016406        0.6769\n",
       "6  0.489008   0.82640  1.156310        0.6594"
      ]
     },
     "execution_count": 22,
     "metadata": {},
     "output_type": "execute_result"
    }
   ],
   "source": [
    "metrics"
   ]
  },
  {
   "cell_type": "code",
   "execution_count": 23,
   "id": "33cd8748",
   "metadata": {
    "execution": {
     "iopub.execute_input": "2022-11-02T22:31:51.424277Z",
     "iopub.status.busy": "2022-11-02T22:31:51.423594Z",
     "iopub.status.idle": "2022-11-02T22:31:51.430833Z",
     "shell.execute_reply": "2022-11-02T22:31:51.429655Z"
    },
    "papermill": {
     "duration": 0.065703,
     "end_time": "2022-11-02T22:31:51.433265",
     "exception": false,
     "start_time": "2022-11-02T22:31:51.367562",
     "status": "completed"
    },
    "tags": []
   },
   "outputs": [
    {
     "data": {
      "text/plain": [
       "Index(['loss', 'accuracy', 'val_loss', 'val_accuracy'], dtype='object')"
      ]
     },
     "execution_count": 23,
     "metadata": {},
     "output_type": "execute_result"
    }
   ],
   "source": [
    "metrics.columns"
   ]
  },
  {
   "cell_type": "code",
   "execution_count": 24,
   "id": "fd0d011c",
   "metadata": {
    "execution": {
     "iopub.execute_input": "2022-11-02T22:31:51.549047Z",
     "iopub.status.busy": "2022-11-02T22:31:51.547836Z",
     "iopub.status.idle": "2022-11-02T22:31:51.827332Z",
     "shell.execute_reply": "2022-11-02T22:31:51.826343Z"
    },
    "papermill": {
     "duration": 0.34075,
     "end_time": "2022-11-02T22:31:51.829773",
     "exception": false,
     "start_time": "2022-11-02T22:31:51.489023",
     "status": "completed"
    },
    "tags": []
   },
   "outputs": [
    {
     "data": {
      "text/plain": [
       "<AxesSubplot:>"
      ]
     },
     "execution_count": 24,
     "metadata": {},
     "output_type": "execute_result"
    },
    {
     "data": {
      "image/png": "[encoded data removed]",
      "text/plain": [
       "<Figure size 432x288 with 1 Axes>"
      ]
     },
     "metadata": {
      "needs_background": "light"
     },
     "output_type": "display_data"
    }
   ],
   "source": [
    "metrics[[\"accuracy\", \"val_accuracy\"]].plot()"
   ]
  },
  {
   "cell_type": "code",
   "execution_count": 25,
   "id": "2363b804",
   "metadata": {
    "execution": {
     "iopub.execute_input": "2022-11-02T22:31:51.945174Z",
     "iopub.status.busy": "2022-11-02T22:31:51.944759Z",
     "iopub.status.idle": "2022-11-02T22:31:52.177923Z",
     "shell.execute_reply": "2022-11-02T22:31:52.176931Z"
    },
    "papermill": {
     "duration": 0.293758,
     "end_time": "2022-11-02T22:31:52.180233",
     "exception": false,
     "start_time": "2022-11-02T22:31:51.886475",
     "status": "completed"
    },
    "tags": []
   },
   "outputs": [
    {
     "data": {
      "text/plain": [
       "<AxesSubplot:>"
      ]
     },
     "execution_count": 25,
     "metadata": {},
     "output_type": "execute_result"
    },
    {
     "data": {
      "image/png": "[encoded data removed]",
      "text/plain": [
       "<Figure size 432x288 with 1 Axes>"
      ]
     },
     "metadata": {
      "needs_background": "light"
     },
     "output_type": "display_data"
    }
   ],
   "source": [
    "metrics[[\"loss\", \"val_loss\"]].plot()"
   ]
  },
  {
   "cell_type": "code",
   "execution_count": 26,
   "id": "1c05cd21",
   "metadata": {
    "execution": {
     "iopub.execute_input": "2022-11-02T22:31:52.289894Z",
     "iopub.status.busy": "2022-11-02T22:31:52.289517Z",
     "iopub.status.idle": "2022-11-02T22:31:53.484233Z",
     "shell.execute_reply": "2022-11-02T22:31:53.483266Z"
    },
    "papermill": {
     "duration": 1.252046,
     "end_time": "2022-11-02T22:31:53.486556",
     "exception": false,
     "start_time": "2022-11-02T22:31:52.234510",
     "status": "completed"
    },
    "tags": []
   },
   "outputs": [
    {
     "name": "stdout",
     "output_type": "stream",
     "text": [
      "313/313 [==============================] - 1s 3ms/step - loss: 1.1563 - accuracy: 0.6594\n"
     ]
    },
    {
     "data": {
      "text/plain": [
       "[1.1563100814819336, 0.6593999862670898]"
      ]
     },
     "execution_count": 26,
     "metadata": {},
     "output_type": "execute_result"
    }
   ],
   "source": [
    "model.evaluate(X_test, y_cat_test, verbose = 1)"
   ]
  },
  {
   "cell_type": "code",
   "execution_count": 27,
   "id": "2573a6c5",
   "metadata": {
    "execution": {
     "iopub.execute_input": "2022-11-02T22:31:53.598882Z",
     "iopub.status.busy": "2022-11-02T22:31:53.597705Z",
     "iopub.status.idle": "2022-11-02T22:31:54.133360Z",
     "shell.execute_reply": "2022-11-02T22:31:54.132362Z"
    },
    "papermill": {
     "duration": 0.594232,
     "end_time": "2022-11-02T22:31:54.135857",
     "exception": false,
     "start_time": "2022-11-02T22:31:53.541625",
     "status": "completed"
    },
    "tags": []
   },
   "outputs": [],
   "source": [
    "from sklearn.metrics import classification_report, confusion_matrix"
   ]
  },
  {
   "cell_type": "code",
   "execution_count": 28,
   "id": "2d9911df",
   "metadata": {
    "execution": {
     "iopub.execute_input": "2022-11-02T22:31:54.260147Z",
     "iopub.status.busy": "2022-11-02T22:31:54.259734Z",
     "iopub.status.idle": "2022-11-02T22:31:55.367184Z",
     "shell.execute_reply": "2022-11-02T22:31:55.366189Z"
    },
    "papermill": {
     "duration": 1.169936,
     "end_time": "2022-11-02T22:31:55.369756",
     "exception": false,
     "start_time": "2022-11-02T22:31:54.199820",
     "status": "completed"
    },
    "tags": []
   },
   "outputs": [],
   "source": [
    "predict_x=model.predict(X_test) \n",
    "classes_x=np.argmax(predict_x,axis=1)"
   ]
  },
  {
   "cell_type": "code",
   "execution_count": 29,
   "id": "a1935cf2",
   "metadata": {
    "execution": {
     "iopub.execute_input": "2022-11-02T22:31:55.485282Z",
     "iopub.status.busy": "2022-11-02T22:31:55.484543Z",
     "iopub.status.idle": "2022-11-02T22:31:55.514281Z",
     "shell.execute_reply": "2022-11-02T22:31:55.512807Z"
    },
    "papermill": {
     "duration": 0.092316,
     "end_time": "2022-11-02T22:31:55.517718",
     "exception": false,
     "start_time": "2022-11-02T22:31:55.425402",
     "status": "completed"
    },
    "tags": []
   },
   "outputs": [
    {
     "name": "stdout",
     "output_type": "stream",
     "text": [
      "              precision    recall  f1-score   support\n",
      "\n",
      "           0       0.68      0.70      0.69      1000\n",
      "           1       0.69      0.86      0.77      1000\n",
      "           2       0.55      0.58      0.57      1000\n",
      "           3       0.55      0.34      0.42      1000\n",
      "           4       0.67      0.53      0.59      1000\n",
      "           5       0.60      0.52      0.56      1000\n",
      "           6       0.68      0.75      0.72      1000\n",
      "           7       0.77      0.71      0.74      1000\n",
      "           8       0.64      0.83      0.73      1000\n",
      "           9       0.70      0.77      0.73      1000\n",
      "\n",
      "    accuracy                           0.66     10000\n",
      "   macro avg       0.66      0.66      0.65     10000\n",
      "weighted avg       0.66      0.66      0.65     10000\n",
      "\n"
     ]
    }
   ],
   "source": [
    "print(classification_report(y_test, classes_x))"
   ]
  },
  {
   "cell_type": "code",
   "execution_count": 30,
   "id": "5c9b566f",
   "metadata": {
    "execution": {
     "iopub.execute_input": "2022-11-02T22:31:55.644892Z",
     "iopub.status.busy": "2022-11-02T22:31:55.644512Z",
     "iopub.status.idle": "2022-11-02T22:31:55.657009Z",
     "shell.execute_reply": "2022-11-02T22:31:55.656046Z"
    },
    "papermill": {
     "duration": 0.077617,
     "end_time": "2022-11-02T22:31:55.659242",
     "exception": false,
     "start_time": "2022-11-02T22:31:55.581625",
     "status": "completed"
    },
    "tags": []
   },
   "outputs": [
    {
     "data": {
      "text/plain": [
       "array([[696,  41,  31,   6,  17,   4,  11,   7, 155,  32],\n",
       "       [ 16, 860,   3,   5,   1,   1,   5,   0,  35,  74],\n",
       "       [ 81,  30, 582,  42,  51,  64,  57,  27,  38,  28],\n",
       "       [ 42,  42,  75, 344,  64, 157, 116,  45,  70,  45],\n",
       "       [ 36,  16, 160,  33, 529,  34,  74,  54,  39,  25],\n",
       "       [ 28,  34,  71, 131,  44, 515,  60,  58,  40,  19],\n",
       "       [ 13,  26,  86,  33,  30,  15, 753,   7,  19,  18],\n",
       "       [ 25,  18,  29,  21,  50,  54,  19, 714,  17,  53],\n",
       "       [ 47,  61,  10,   5,   0,   2,   2,   3, 835,  35],\n",
       "       [ 38, 111,   9,   4,   1,   6,   8,   7,  50, 766]])"
      ]
     },
     "execution_count": 30,
     "metadata": {},
     "output_type": "execute_result"
    }
   ],
   "source": [
    "confusion_matrix(y_test, classes_x)"
   ]
  },
  {
   "cell_type": "code",
   "execution_count": 31,
   "id": "d82917e6",
   "metadata": {
    "execution": {
     "iopub.execute_input": "2022-11-02T22:31:55.783030Z",
     "iopub.status.busy": "2022-11-02T22:31:55.782627Z",
     "iopub.status.idle": "2022-11-02T22:31:56.661885Z",
     "shell.execute_reply": "2022-11-02T22:31:56.660874Z"
    },
    "papermill": {
     "duration": 0.942819,
     "end_time": "2022-11-02T22:31:56.664181",
     "exception": false,
     "start_time": "2022-11-02T22:31:55.721362",
     "status": "completed"
    },
    "tags": []
   },
   "outputs": [
    {
     "data": {
      "text/plain": [
       "<AxesSubplot:>"
      ]
     },
     "execution_count": 31,
     "metadata": {},
     "output_type": "execute_result"
    },
    {
     "data": {
      "image/png": "[encoded data removed]",
      "text/plain": [
       "<Figure size 720x432 with 2 Axes>"
      ]
     },
     "metadata": {
      "needs_background": "light"
     },
     "output_type": "display_data"
    }
   ],
   "source": [
    "import seaborn as sns\n",
    "plt.figure(figsize = (10, 6))\n",
    "sns.heatmap(confusion_matrix(y_test, classes_x), annot = True)"
   ]
  },
  {
   "cell_type": "code",
   "execution_count": 32,
   "id": "2626c671",
   "metadata": {
    "execution": {
     "iopub.execute_input": "2022-11-02T22:31:56.784503Z",
     "iopub.status.busy": "2022-11-02T22:31:56.784129Z",
     "iopub.status.idle": "2022-11-02T22:31:56.789048Z",
     "shell.execute_reply": "2022-11-02T22:31:56.787929Z"
    },
    "papermill": {
     "duration": 0.06825,
     "end_time": "2022-11-02T22:31:56.791554",
     "exception": false,
     "start_time": "2022-11-02T22:31:56.723304",
     "status": "completed"
    },
    "tags": []
   },
   "outputs": [],
   "source": [
    "my_image = X_test[0]"
   ]
  },
  {
   "cell_type": "code",
   "execution_count": 33,
   "id": "74cb498a",
   "metadata": {
    "execution": {
     "iopub.execute_input": "2022-11-02T22:31:56.921453Z",
     "iopub.status.busy": "2022-11-02T22:31:56.920942Z",
     "iopub.status.idle": "2022-11-02T22:31:56.935983Z",
     "shell.execute_reply": "2022-11-02T22:31:56.934687Z"
    },
    "papermill": {
     "duration": 0.090879,
     "end_time": "2022-11-02T22:31:56.941344",
     "exception": false,
     "start_time": "2022-11-02T22:31:56.850465",
     "status": "completed"
    },
    "tags": []
   },
   "outputs": [
    {
     "data": {
      "text/plain": [
       "array([[[0.61960784, 0.43921569, 0.19215686],\n",
       "        [0.62352941, 0.43529412, 0.18431373],\n",
       "        [0.64705882, 0.45490196, 0.2       ],\n",
       "        ...,\n",
       "        [0.5372549 , 0.37254902, 0.14117647],\n",
       "        [0.49411765, 0.35686275, 0.14117647],\n",
       "        [0.45490196, 0.33333333, 0.12941176]],\n",
       "\n",
       "       [[0.59607843, 0.43921569, 0.2       ],\n",
       "        [0.59215686, 0.43137255, 0.15686275],\n",
       "        [0.62352941, 0.44705882, 0.17647059],\n",
       "        ...,\n",
       "        [0.53333333, 0.37254902, 0.12156863],\n",
       "        [0.49019608, 0.35686275, 0.1254902 ],\n",
       "        [0.46666667, 0.34509804, 0.13333333]],\n",
       "\n",
       "       [[0.59215686, 0.43137255, 0.18431373],\n",
       "        [0.59215686, 0.42745098, 0.12941176],\n",
       "        [0.61960784, 0.43529412, 0.14117647],\n",
       "        ...,\n",
       "        [0.54509804, 0.38431373, 0.13333333],\n",
       "        [0.50980392, 0.37254902, 0.13333333],\n",
       "        [0.47058824, 0.34901961, 0.12941176]],\n",
       "\n",
       "       ...,\n",
       "\n",
       "       [[0.26666667, 0.48627451, 0.69411765],\n",
       "        [0.16470588, 0.39215686, 0.58039216],\n",
       "        [0.12156863, 0.34509804, 0.5372549 ],\n",
       "        ...,\n",
       "        [0.14901961, 0.38039216, 0.57254902],\n",
       "        [0.05098039, 0.25098039, 0.42352941],\n",
       "        [0.15686275, 0.33333333, 0.49803922]],\n",
       "\n",
       "       [[0.23921569, 0.45490196, 0.65882353],\n",
       "        [0.19215686, 0.4       , 0.58039216],\n",
       "        [0.1372549 , 0.33333333, 0.51764706],\n",
       "        ...,\n",
       "        [0.10196078, 0.32156863, 0.50980392],\n",
       "        [0.11372549, 0.32156863, 0.49411765],\n",
       "        [0.07843137, 0.25098039, 0.41960784]],\n",
       "\n",
       "       [[0.21176471, 0.41960784, 0.62745098],\n",
       "        [0.21960784, 0.41176471, 0.58431373],\n",
       "        [0.17647059, 0.34901961, 0.51764706],\n",
       "        ...,\n",
       "        [0.09411765, 0.30196078, 0.48627451],\n",
       "        [0.13333333, 0.32941176, 0.50588235],\n",
       "        [0.08235294, 0.2627451 , 0.43137255]]])"
      ]
     },
     "execution_count": 33,
     "metadata": {},
     "output_type": "execute_result"
    }
   ],
   "source": [
    "my_image"
   ]
  },
  {
   "cell_type": "code",
   "execution_count": 34,
   "id": "b81dac07",
   "metadata": {
    "execution": {
     "iopub.execute_input": "2022-11-02T22:31:57.146914Z",
     "iopub.status.busy": "2022-11-02T22:31:57.146440Z",
     "iopub.status.idle": "2022-11-02T22:31:57.382184Z",
     "shell.execute_reply": "2022-11-02T22:31:57.381056Z"
    },
    "papermill": {
     "duration": 0.328124,
     "end_time": "2022-11-02T22:31:57.385387",
     "exception": false,
     "start_time": "2022-11-02T22:31:57.057263",
     "status": "completed"
    },
    "tags": []
   },
   "outputs": [
    {
     "data": {
      "text/plain": [
       "<matplotlib.image.AxesImage at 0x7f019a5c4210>"
      ]
     },
     "execution_count": 34,
     "metadata": {},
     "output_type": "execute_result"
    },
    {
     "data": {
      "image/png": "[encoded data removed]",
      "text/plain": [
       "<Figure size 432x288 with 1 Axes>"
      ]
     },
     "metadata": {
      "needs_background": "light"
     },
     "output_type": "display_data"
    }
   ],
   "source": [
    "plt.imshow(my_image)"
   ]
  },
  {
   "cell_type": "code",
   "execution_count": 35,
   "id": "2b696e5d",
   "metadata": {
    "execution": {
     "iopub.execute_input": "2022-11-02T22:31:57.561525Z",
     "iopub.status.busy": "2022-11-02T22:31:57.561047Z",
     "iopub.status.idle": "2022-11-02T22:31:57.571804Z",
     "shell.execute_reply": "2022-11-02T22:31:57.570625Z"
    },
    "papermill": {
     "duration": 0.106871,
     "end_time": "2022-11-02T22:31:57.579545",
     "exception": false,
     "start_time": "2022-11-02T22:31:57.472674",
     "status": "completed"
    },
    "tags": []
   },
   "outputs": [
    {
     "data": {
      "text/plain": [
       "array([3], dtype=uint8)"
      ]
     },
     "execution_count": 35,
     "metadata": {},
     "output_type": "execute_result"
    }
   ],
   "source": [
    "y_test[0]"
   ]
  },
  {
   "cell_type": "code",
   "execution_count": 36,
   "id": "a77e9aaa",
   "metadata": {
    "execution": {
     "iopub.execute_input": "2022-11-02T22:31:57.698126Z",
     "iopub.status.busy": "2022-11-02T22:31:57.697729Z",
     "iopub.status.idle": "2022-11-02T22:31:57.756052Z",
     "shell.execute_reply": "2022-11-02T22:31:57.754934Z"
    },
    "papermill": {
     "duration": 0.11825,
     "end_time": "2022-11-02T22:31:57.758451",
     "exception": false,
     "start_time": "2022-11-02T22:31:57.640201",
     "status": "completed"
    },
    "tags": []
   },
   "outputs": [
    {
     "data": {
      "text/plain": [
       "array([[4.5175501e-03, 1.5961784e-03, 2.6279516e-03, 7.8444701e-01,\n",
       "        3.7984203e-03, 1.8946908e-02, 6.4395936e-03, 7.8961725e-04,\n",
       "        1.7647365e-01, 3.6316694e-04]], dtype=float32)"
      ]
     },
     "execution_count": 36,
     "metadata": {},
     "output_type": "execute_result"
    }
   ],
   "source": [
    "model.predict(my_image.reshape(1, 32, 32, 3))"
   ]
  },
  {
   "cell_type": "code",
   "execution_count": null,
   "id": "2396d34a",
   "metadata": {
    "papermill": {
     "duration": 0.060098,
     "end_time": "2022-11-02T22:31:57.880664",
     "exception": false,
     "start_time": "2022-11-02T22:31:57.820566",
     "status": "completed"
    },
    "tags": []
   },
   "outputs": [],
   "source": []
  }
 ],
 "metadata": {
  "kernelspec": {
   "display_name": "Python 3 (ipykernel)",
   "language": "python",
   "name": "python3"
  },
  "language_info": {
   "codemirror_mode": {
    "name": "ipython",
    "version": 3
   },
   "file_extension": ".py",
   "mimetype": "text/x-python",
   "name": "python",
   "nbconvert_exporter": "python",
   "pygments_lexer": "ipython3",
   "version": "3.9.12"
  },
  "papermill": {
   "default_parameters": {},
   "duration": 126.390843,
   "end_time": "2022-11-02T22:32:01.227759",
   "environment_variables": {},
   "exception": null,
   "input_path": "__notebook__.ipynb",
   "output_path": "__notebook__.ipynb",
   "parameters": {},
   "start_time": "2022-11-02T22:29:54.836916",
   "version": "2.3.4"
  }
 },
 "nbformat": 4,
 "nbformat_minor": 5
}
